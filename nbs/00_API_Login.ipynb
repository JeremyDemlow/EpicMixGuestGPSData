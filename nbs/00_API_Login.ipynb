{
 "cells": [
  {
   "cell_type": "markdown",
   "metadata": {},
   "source": [
    "# Epic Mix Guest GPS POC\n",
    "\n",
    "> Build snowflake data asset with lat/long combinations to begin waittime QA development\n",
    " "
   ]
  },
  {
   "cell_type": "markdown",
   "metadata": {},
   "source": [
    "This is the first data source need for the GPS POC wait times development project. \n",
    "\n",
    "As of right now we are most likely going to be taking advantage of the Databricks Spark Engine or we might move it completely to a Snowpark Engine, which really the same thing, but both are under development in which one works best for the future prospects of the company."
   ]
  },
  {
   "cell_type": "code",
   "execution_count": null,
   "metadata": {},
   "outputs": [],
   "source": [
    "#| default_exp poc_gps"
   ]
  },
  {
   "cell_type": "code",
   "execution_count": null,
   "metadata": {},
   "outputs": [],
   "source": [
    "#| hide\n",
    "from nbdev.showdoc import *\n",
    "from fastcore.test import *"
   ]
  },
  {
   "cell_type": "code",
   "execution_count": 2,
   "metadata": {
    "ExecuteTime": {
     "end_time": "2022-11-11T16:21:59.834018Z",
     "start_time": "2022-11-11T16:21:58.013016Z"
    },
    "scrolled": true
   },
   "outputs": [
    {
     "name": "stdout",
     "output_type": "stream",
     "text": [
      "Collecting requests\n",
      "  Using cached requests-2.28.1-py3-none-any.whl (62 kB)\n",
      "Requirement already satisfied: idna<4,>=2.5 in /Users/jeremydemlow/miniforge3/envs/snowpark/lib/python3.8/site-packages (from requests) (3.4)\n",
      "Requirement already satisfied: certifi>=2017.4.17 in /Users/jeremydemlow/miniforge3/envs/snowpark/lib/python3.8/site-packages (from requests) (2022.9.24)\n",
      "Collecting charset-normalizer<3,>=2\n",
      "  Using cached charset_normalizer-2.1.1-py3-none-any.whl (39 kB)\n",
      "Collecting urllib3<1.27,>=1.21.1\n",
      "  Using cached urllib3-1.26.12-py2.py3-none-any.whl (140 kB)\n",
      "Installing collected packages: urllib3, charset-normalizer, requests\n",
      "Successfully installed charset-normalizer-2.1.1 requests-2.28.1 urllib3-1.26.12\n"
     ]
    }
   ],
   "source": [
    "! pip install requests"
   ]
  },
  {
   "cell_type": "code",
   "execution_count": 4,
   "metadata": {
    "ExecuteTime": {
     "end_time": "2022-11-11T16:22:29.253728Z",
     "start_time": "2022-11-11T16:22:28.975358Z"
    }
   },
   "outputs": [
    {
     "name": "stdout",
     "output_type": "stream",
     "text": [
      "Status Code 404\n"
     ]
    },
    {
     "name": "stderr",
     "output_type": "stream",
     "text": [
      "Failed to obtain token from the OAuth 2.0 server\n"
     ]
    },
    {
     "ename": "SystemExit",
     "evalue": "1",
     "output_type": "error",
     "traceback": [
      "An exception has occurred, use %tb to see the full traceback.\n",
      "\u001b[0;31mSystemExit\u001b[0m\u001b[0;31m:\u001b[0m 1\n"
     ]
    }
   ],
   "source": [
    "import sys\n",
    "import requests\n",
    "import json\n",
    "import logging\n",
    "import time\n",
    "\n",
    "logging.captureWarnings(True)\n",
    "\n",
    "test_api_url = \"https://api.mountain.live/skitracking\"\n",
    "\n",
    "##\n",
    "##    function to obtain a new OAuth 2.0 token from the authentication server\n",
    "##\n",
    "def get_new_token():\n",
    "\n",
    "    auth_server_url = \"https://api.mountain.live/authz-service/oauth/token\"\n",
    "    client_id = 'vail-tracking'\n",
    "    client_secret = '3lA1r4brVqXyEaiYghObBdztdeyKtdrz'\n",
    "\n",
    "    token_req_payload = {'grant_type': 'client_credentials'}\n",
    "\n",
    "    token_response = requests.post(auth_server_url,\n",
    "    data=token_req_payload, verify=False, allow_redirects=False,\n",
    "    auth=(client_id, client_secret))\n",
    "\n",
    "    if token_response.status_code !=200:\n",
    "        print(f\"Status Code {token_response.status_code}\")\n",
    "        print(\"Failed to obtain token from the OAuth 2.0 server\", file=sys.stderr)\n",
    "        sys.exit(1)\n",
    "\n",
    "    print(\"Successfuly obtained a new token\")\n",
    "    tokens = json.loads(token_response.text)\n",
    "    return tokens['access_token']\n",
    "\n",
    "token = get_new_token()"
   ]
  },
  {
   "cell_type": "code",
   "execution_count": null,
   "metadata": {},
   "outputs": [],
   "source": [
    "## \n",
    "## \tobtain a token before calling the API for the first time\n",
    "##\n",
    "token = get_new_token()\n",
    "\n",
    "while True:\n",
    "\n",
    "##\n",
    "##   call the API with the token\n",
    "##\n",
    "api_call_headers = {'Authorization': 'Bearer ' + token}\n",
    "api_call_response = requests.get(test_api_url, headers=api_call_headers, verify+False)\n",
    "\n",
    "##\n",
    "##\n",
    "if\tapi_call_response.status_code == 401:\n",
    "token = get_new_token()\n",
    "else:\n",
    "print(api_call_response.text)\n",
    "\n",
    "time.sleep(30)"
   ]
  },
  {
   "cell_type": "code",
   "execution_count": null,
   "metadata": {},
   "outputs": [],
   "source": [
    "#| hide\n",
    "import nbdev; nbdev.nbdev_export()"
   ]
  }
 ],
 "metadata": {
  "kernelspec": {
   "display_name": "Python 3 (ipykernel)",
   "language": "python",
   "name": "python3"
  },
  "language_info": {
   "codemirror_mode": {
    "name": "ipython",
    "version": 3
   },
   "file_extension": ".py",
   "mimetype": "text/x-python",
   "name": "python",
   "nbconvert_exporter": "python",
   "pygments_lexer": "ipython3",
   "version": "3.8.13"
  },
  "toc": {
   "base_numbering": 1,
   "nav_menu": {},
   "number_sections": true,
   "sideBar": true,
   "skip_h1_title": false,
   "title_cell": "Table of Contents",
   "title_sidebar": "Contents",
   "toc_cell": false,
   "toc_position": {},
   "toc_section_display": true,
   "toc_window_display": false
  },
  "varInspector": {
   "cols": {
    "lenName": 16,
    "lenType": 16,
    "lenVar": 40
   },
   "kernels_config": {
    "python": {
     "delete_cmd_postfix": "",
     "delete_cmd_prefix": "del ",
     "library": "var_list.py",
     "varRefreshCmd": "print(var_dic_list())"
    },
    "r": {
     "delete_cmd_postfix": ") ",
     "delete_cmd_prefix": "rm(",
     "library": "var_list.r",
     "varRefreshCmd": "cat(var_dic_list()) "
    }
   },
   "types_to_exclude": [
    "module",
    "function",
    "builtin_function_or_method",
    "instance",
    "_Feature"
   ],
   "window_display": false
  }
 },
 "nbformat": 4,
 "nbformat_minor": 4
}
